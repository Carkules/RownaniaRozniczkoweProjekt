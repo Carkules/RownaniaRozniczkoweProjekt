{
 "cells": [
  {
   "cell_type": "markdown",
   "id": "510a5dd9-4770-4494-89c9-274528b45101",
   "metadata": {},
   "source": [
    "# Przyrost fermentacji drożdży podczas fermentacji napojów alkoholowych"
   ]
  },
  {
   "cell_type": "markdown",
   "id": "b8fb085a-2d26-46aa-aea3-be8d7b8148f6",
   "metadata": {},
   "source": [
    "## 1. Wstęp\n",
    "\n",
    "### 1.1 Jak wygląda proces ważenia piwa?\n",
    "Proces warzenia piwa, niezwykle ważny dla rozwoju cywilizacji, zaczyna się od słodu - wykiełkowane nasiona zbóż, zawierające enzymy rozbijające skrobię, występującą naturalnie w zbożu, na cukry proste. Jest to kluczowe dla procesu fermentacji, gdyż drożdże nie są w stanie konsumować cukrów złożonych. Enzymy te są aktywowane za pomocą ciepłej wody, jednocześnie tworząc zacier. Następnie z zacieru odsącza się brzeczkę, po czym ta jest gotowana z przyprawami (najczęściej chmielem), w celu sterylizacji oraz skoncentrowania cukrów w cieczy. Po ugotowaniu i szybkim schłodzeniu brzeczki przelewa się ją do sterylnego naczynia, oraz dodaje się drożdże, które fermentują cukry na alkohol i gaz, zamieniając brzeczkę w piwo. W tej pracy przyjrzymy się dokładniej temu ostatniemu procesowi, jak tylko odpowiemy sobie czym dokładnie jest fermentacja.\n",
    "\n",
    "### 1.2 Czym jest fermentacja?"
   ]
  },
  {
   "cell_type": "markdown",
   "id": "e291bb9e-2ebf-4571-a478-18b051a892f4",
   "metadata": {},
   "source": [
    "## 2. Zastosowanie równań różniczkowych w badaniu przyrostu drożdży w procesie fermentacji piwa\n",
    "Do przedstawienia jak zachowuje się populacja drożdży podczas procesu fermentacji piwa skorzystamy z modelu opracowanego przez B. de Andrés-Toro i in. Autorzy modelu podzielili biomasę na trzy grupy, które odzwierciedlają poszczególne stany fizjologiczne drożdży podczas fermentacji: \n",
    "- Zalegająca biomasa $X_L$ (eng. lagged biomass) to drożdże, które jeszcze nie uczestniczą aktywnie w procesie fermentacji, lecz dopiero adaptują się do środowiska.\n",
    "- Aktywna biomasa $X_A$ (eng. active biomass) to drożdże, które intensywnie rozmnażają się i fermentują przekształcając cukier w etanol oraz inne związki.\n",
    "- Martwa biomasa $X_D$ (eng. dead biomass) to drożdże, które umarły - nie biorą już udziału w procesie fermentacji i osiadają na dnie.\n",
    "\n",
    "Zależności między poszczególnymi grupami biomasy można opisać następującymi równaniami różniczkowymi:\n",
    "$$ \\frac{dX_L}{dt} = -\\mu_L X_L,$$\n",
    "$$ \\frac{dX_A}{dt} = \\mu_X X_A + \\mu_L X_L - \\mu_{DT} X_A, $$\n",
    "$$ \\frac{dX_D}{dt} = \\mu_{DT} X_A - \\mu_{SD} X_D,$$\n",
    "gdzie:\n",
    "- $\\mu_L$ to szybkość, z jaką zalegająca biomasa przechodzi w aktywną biomasę,\n",
    "- $\\mu_X$ to szybkość, z jaką rozmnaża się aktywna biomasa,\n",
    "- $\\mu_{DT}$ to szybkość, z jaką aktywna biomasa obumiera i przestaje fermentować,\n",
    "- $\\mu_{SD}$ to szybkość, z jaką martwa biomasa opada na dno fermentatora.\n",
    "\n",
    "Współczynniki $\\mu_X$ i $\\mu_{SD}$ są zależne od ilości cukru $S$ oraz stężenia etanolu $E$. Wyrażają się one wzorami:\n",
    "$$\\mu_X = \\frac{\\mu_{X_0}S}{0.5S_0 + E},$$\n",
    "$$\\mu_{SD} = \\frac{\\mu_{SD_0}0.5S_0}{0.5S_0 + E}.$$\n",
    "Aktywna biomasa zużywa cukier do produkcji etanolu, stąd konsumpcję cukru $S$ można wyrazić równaniem:\n",
    "$$\\frac{dS}{dt} = -\\mu_S X_A,$$\n",
    "gdzie\n",
    "$$\\mu_S = \\frac{\\mu_{S_0}S}{K_S + S}.$$\n",
    "Natomiast przyrost etanolu $E$ można opisać następującym równaniem:\n",
    "$$\\frac{dE}{dt} = \\mu_E X_A, $$\n",
    "gdzie\n",
    "$$\\mu_E = \\frac{\\mu_{E_0}S}{k_E + S}\\left(1 - \\frac{E}{0.5S_0}\\right).$$"
   ]
  },
  {
   "cell_type": "markdown",
   "id": "4151195e-8838-4e75-8a58-375722ce8a27",
   "metadata": {},
   "source": [
    "## 3. Rozwiązanie równań"
   ]
  },
  {
   "cell_type": "markdown",
   "id": "bfa8f9f5-74ce-48cd-aa41-8ed624f9b489",
   "metadata": {},
   "source": [
    "## 4. Przedstawienie wyników"
   ]
  },
  {
   "cell_type": "markdown",
   "id": "3323ef8b-02e8-4894-a04c-8f9152dbfbb4",
   "metadata": {},
   "source": [
    "## Bibliografia"
   ]
  },
  {
   "cell_type": "code",
   "execution_count": null,
   "id": "0f3f8b29-ff2d-48c5-b94a-a4878bc4a4ca",
   "metadata": {},
   "outputs": [],
   "source": []
  }
 ],
 "metadata": {
  "kernelspec": {
   "display_name": "Python [conda env:base] *",
   "language": "python",
   "name": "conda-base-py"
  },
  "language_info": {
   "codemirror_mode": {
    "name": "ipython",
    "version": 3
   },
   "file_extension": ".py",
   "mimetype": "text/x-python",
   "name": "python",
   "nbconvert_exporter": "python",
   "pygments_lexer": "ipython3",
   "version": "3.12.7"
  }
 },
 "nbformat": 4,
 "nbformat_minor": 5
}
