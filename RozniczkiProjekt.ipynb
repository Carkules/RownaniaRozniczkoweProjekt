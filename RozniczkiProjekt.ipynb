{
 "cells": [
  {
   "cell_type": "markdown",
   "id": "510a5dd9-4770-4494-89c9-274528b45101",
   "metadata": {},
   "source": [
    "# Przyrost fermentacji drożdży podczas fermentacji napojów alkoholowych"
   ]
  },
  {
   "cell_type": "markdown",
   "id": "b8fb085a-2d26-46aa-aea3-be8d7b8148f6",
   "metadata": {},
   "source": [
    "## 1. Wstęp\n",
    "\n",
    "### 1.1 Jak wygląda proces ważenia piwa?\n",
    "\n",
    "### 1.2 Czym jest fermentacja?"
   ]
  },
  {
   "cell_type": "markdown",
   "id": "e291bb9e-2ebf-4571-a478-18b051a892f4",
   "metadata": {},
   "source": [
    "## 2. Zastosowanie równań różniczkowych w badaniu przyrostu drożdży w procesie fermentacji piwa\n"
   ]
  },
  {
   "cell_type": "markdown",
   "id": "4151195e-8838-4e75-8a58-375722ce8a27",
   "metadata": {},
   "source": [
    "## 3. Rozwiązanie równań"
   ]
  },
  {
   "cell_type": "markdown",
   "id": "bfa8f9f5-74ce-48cd-aa41-8ed624f9b489",
   "metadata": {},
   "source": [
    "## 4. Przedstawienie wyników"
   ]
  },
  {
   "cell_type": "markdown",
   "id": "3323ef8b-02e8-4894-a04c-8f9152dbfbb4",
   "metadata": {},
   "source": [
    "## Bibliografia"
   ]
  },
  {
   "cell_type": "code",
   "execution_count": null,
   "id": "0f3f8b29-ff2d-48c5-b94a-a4878bc4a4ca",
   "metadata": {},
   "outputs": [],
   "source": []
  }
 ],
 "metadata": {
  "kernelspec": {
   "display_name": "Python [conda env:base] *",
   "language": "python",
   "name": "conda-base-py"
  },
  "language_info": {
   "codemirror_mode": {
    "name": "ipython",
    "version": 3
   },
   "file_extension": ".py",
   "mimetype": "text/x-python",
   "name": "python",
   "nbconvert_exporter": "python",
   "pygments_lexer": "ipython3",
   "version": "3.12.7"
  }
 },
 "nbformat": 4,
 "nbformat_minor": 5
}
